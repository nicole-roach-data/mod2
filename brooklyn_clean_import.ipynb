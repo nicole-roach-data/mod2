{
 "cells": [
  {
   "cell_type": "code",
   "execution_count": 1,
   "metadata": {},
   "outputs": [],
   "source": [
    "import pandas as pd #dataframe, series\n",
    "import numpy as np #scientific computing package, array, create data structures, lg num data\n",
    "import sklearn\n",
    "from sklearn import linear_model\n",
    "from sklearn.model_selection import train_test_split\n",
    "import matplotlib as pyplot #sometimes referenced as plt\n",
    "from matplotlib import style\n",
    "import seaborn as sns #allows for better styling\n",
    "import pickle\n",
    "import datetime\n",
    "\n",
    "style.use('ggplot')\n",
    "pd.set_option('display.max_columns', 110)\n",
    "#previous exploring of the data let me know that there were 110 rows that may need to be\n",
    "#displayed which is why I set it to allow that exact number to be seen"
   ]
  },
  {
   "cell_type": "code",
   "execution_count": 2,
   "metadata": {},
   "outputs": [],
   "source": [
    "df = pd.read_csv('brooklyn_sales_map.csv', index_col=0, low_memory=False)\n",
    "#index_col=0 allows the pddf to use index already provided by the csv\n",
    "#low_memory is b/c this is a larger file"
   ]
  },
  {
   "cell_type": "code",
   "execution_count": 3,
   "metadata": {},
   "outputs": [
    {
     "data": {
      "text/plain": [
       "(390883, 110)"
      ]
     },
     "execution_count": 3,
     "metadata": {},
     "output_type": "execute_result"
    }
   ],
   "source": [
    "df.shape"
   ]
  },
  {
   "cell_type": "code",
   "execution_count": 7,
   "metadata": {
    "collapsed": true
   },
   "outputs": [
    {
     "data": {
      "text/plain": [
       "borough                      int64\n",
       "neighborhood                object\n",
       "building_class_category     object\n",
       "tax_class                   object\n",
       "block                        int64\n",
       "lot                          int64\n",
       "easement                   float64\n",
       "building_class              object\n",
       "address                     object\n",
       "apartment_number            object\n",
       "zip_code                     int64\n",
       "residential_units            int64\n",
       "commercial_units             int64\n",
       "total_units                  int64\n",
       "land_sqft                  float64\n",
       "gross_sqft                 float64\n",
       "year_built                   int64\n",
       "tax_class_at_sale            int64\n",
       "building_class_at_sale      object\n",
       "sale_price                 float64\n",
       "sale_date                   object\n",
       "year_of_sale                 int64\n",
       "Borough                     object\n",
       "CD                         float64\n",
       "CT2010                     float64\n",
       "CB2010                     float64\n",
       "SchoolDist                 float64\n",
       "Council                    float64\n",
       "ZipCode                    float64\n",
       "FireComp                    object\n",
       "                            ...   \n",
       "ExemptTot                  float64\n",
       "YearBuilt                  float64\n",
       "YearAlter1                 float64\n",
       "YearAlter2                 float64\n",
       "HistDist                    object\n",
       "Landmark                    object\n",
       "BuiltFAR                   float64\n",
       "ResidFAR                   float64\n",
       "CommFAR                    float64\n",
       "FacilFAR                   float64\n",
       "BoroCode                   float64\n",
       "BBL                        float64\n",
       "CondoNo                    float64\n",
       "Tract2010                  float64\n",
       "XCoord                     float64\n",
       "YCoord                     float64\n",
       "ZoneMap                     object\n",
       "ZMCode                      object\n",
       "Sanborn                     object\n",
       "TaxMap                     float64\n",
       "EDesigNum                   object\n",
       "APPBBL                     float64\n",
       "APPDate                     object\n",
       "PLUTOMapID                 float64\n",
       "FIRM07_FLA                 float64\n",
       "PFIRM15_FL                 float64\n",
       "Version                     object\n",
       "MAPPLUTO_F                 float64\n",
       "SHAPE_Leng                 float64\n",
       "SHAPE_Area                 float64\n",
       "Length: 110, dtype: object"
      ]
     },
     "execution_count": 7,
     "metadata": {},
     "output_type": "execute_result"
    }
   ],
   "source": [
    "df.dtypes\n",
    "#this is helpful to run because it shows us what our columns are named\n",
    "#and also what kind of datatypes they are"
   ]
  },
  {
   "cell_type": "code",
   "execution_count": 9,
   "metadata": {
    "collapsed": true
   },
   "outputs": [
    {
     "data": {
      "text/plain": [
       "1    11201\n",
       "2    11201\n",
       "3    11201\n",
       "4    11234\n",
       "5    11201\n",
       "Name: zip_code, dtype: object"
      ]
     },
     "execution_count": 9,
     "metadata": {},
     "output_type": "execute_result"
    }
   ],
   "source": [
    "df['zip_code'] = df['zip_code'].astype(str)\n",
    "#I made the zip a str obj because there is no reason to perform any math fncs\n",
    "#on it - it is an identifier only\n",
    "#df['zip_code'].head()\n",
    "#helpful but does not need to be run everytime the script runs"
   ]
  },
  {
   "cell_type": "code",
   "execution_count": 10,
   "metadata": {
    "collapsed": true
   },
   "outputs": [
    {
     "data": {
      "text/plain": [
       "1   2008-04-23\n",
       "2   2016-12-20\n",
       "3   2016-08-03\n",
       "4   2012-11-28\n",
       "5   2017-10-31\n",
       "Name: sale_date, dtype: datetime64[ns]"
      ]
     },
     "execution_count": 10,
     "metadata": {},
     "output_type": "execute_result"
    }
   ],
   "source": [
    "df['sale_date'] = pd.to_datetime(df['sale_date'])\n",
    "#df['sale_date'].head()\n",
    "#helpful but does not need to be run everytime the script runs"
   ]
  },
  {
   "cell_type": "code",
   "execution_count": 11,
   "metadata": {
    "collapsed": true
   },
   "outputs": [
    {
     "data": {
      "text/plain": [
       "1             nan\n",
       "2    3000540001.0\n",
       "3    3002040001.0\n",
       "4    3084700055.0\n",
       "5    3002300001.0\n",
       "Name: BBL, dtype: object"
      ]
     },
     "execution_count": 11,
     "metadata": {},
     "output_type": "execute_result"
    }
   ],
   "source": [
    "df['BBL'] = df['BBL'].values.astype(str)\n",
    "#df['BBL'].head()\n",
    "#helpful but does not need to be run everytime the script runs"
   ]
  },
  {
   "cell_type": "code",
   "execution_count": null,
   "metadata": {},
   "outputs": [],
   "source": []
  }
 ],
 "metadata": {
  "kernelspec": {
   "display_name": "Python 3",
   "language": "python",
   "name": "python3"
  },
  "language_info": {
   "codemirror_mode": {
    "name": "ipython",
    "version": 3
   },
   "file_extension": ".py",
   "mimetype": "text/x-python",
   "name": "python",
   "nbconvert_exporter": "python",
   "pygments_lexer": "ipython3",
   "version": "3.7.2"
  }
 },
 "nbformat": 4,
 "nbformat_minor": 2
}
